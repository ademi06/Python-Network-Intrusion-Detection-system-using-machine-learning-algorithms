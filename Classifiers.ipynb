{
 "cells": [
  {
   "cell_type": "code",
   "execution_count": 1,
   "id": "0c9bcb60-ae04-483e-8d26-ab7f4a30bc95",
   "metadata": {},
   "outputs": [
    {
     "data": {
      "text/plain": [
       "'1.3.4'"
      ]
     },
     "execution_count": 1,
     "metadata": {},
     "output_type": "execute_result"
    }
   ],
   "source": [
    "import pandas\n",
    "pandas.__version__"
   ]
  },
  {
   "cell_type": "code",
   "execution_count": 2,
   "id": "c127d230-35b7-4e56-8bbc-2bc332f0385d",
   "metadata": {},
   "outputs": [],
   "source": [
    "import numpy as np # linear algebra\n",
    "import pandas as pd # data processing"
   ]
  },
  {
   "cell_type": "code",
   "execution_count": 3,
   "id": "b828d07b-36df-4fce-bb6f-d4080fff6b94",
   "metadata": {},
   "outputs": [],
   "source": [
    "import matplotlib.pyplot as plt"
   ]
  },
  {
   "cell_type": "code",
   "execution_count": 4,
   "id": "2d7e98e8-c1e3-4419-90d5-c120434783fe",
   "metadata": {},
   "outputs": [],
   "source": [
    "import seaborn as sns"
   ]
  },
  {
   "cell_type": "code",
   "execution_count": 5,
   "id": "99d91b43-263a-41a7-822e-3dea3f6b8576",
   "metadata": {},
   "outputs": [],
   "source": [
    "import time"
   ]
  },
  {
   "cell_type": "code",
   "execution_count": 6,
   "id": "5357eb8e-333c-4afe-ab68-1e0af867a63e",
   "metadata": {},
   "outputs": [],
   "source": [
    "import sklearn.metrics as m"
   ]
  },
  {
   "cell_type": "code",
   "execution_count": 7,
   "id": "8b54cb45-2929-4698-bc39-c7de6293714e",
   "metadata": {},
   "outputs": [
    {
     "name": "stdout",
     "output_type": "stream",
     "text": [
      "Collecting package metadata (current_repodata.json): ...working... done\n",
      "Solving environment: ...working... failed with initial frozen solve. Retrying with flexible solve.\n",
      "Note: you may need to restart the kernel to use updated packages.\n"
     ]
    },
    {
     "name": "stderr",
     "output_type": "stream",
     "text": [
      "\n",
      "Building graph of deps:   0%|          | 0/5 [00:00<?, ?it/s]\n",
      "Examining @/win-64::__archspec==1=x86_64:   0%|          | 0/5 [00:00<?, ?it/s]\n",
      "Examining imbalanced-learn:  20%|##        | 1/5 [00:00<?, ?it/s]              \n",
      "Examining @/win-64::__win==0=0:  40%|####      | 2/5 [00:00<00:01,  2.78it/s]\n",
      "Examining @/win-64::__win==0=0:  60%|######    | 3/5 [00:00<00:00,  4.16it/s]\n",
      "Examining @/win-64::__cuda==11.2=0:  60%|######    | 3/5 [00:00<00:00,  4.16it/s]\n",
      "Examining python=3.9:  80%|########  | 4/5 [00:00<00:00,  4.16it/s]              \n",
      "                                                                   \n",
      "\n",
      "Determining conflicts:   0%|          | 0/5 [00:00<?, ?it/s]\n",
      "Examining conflict for imbalanced-learn python:   0%|          | 0/5 [00:00<?, ?it/s]\n",
      "                                                                                     \n",
      "\n",
      "UnsatisfiableError: The following specifications were found\n"
     ]
    },
    {
     "name": "stdout",
     "output_type": "stream",
     "text": [
      "\n",
      "Solving environment: ...working... failed with repodata from current_repodata.json, will retry with next repodata source.\n",
      "Collecting package metadata (repodata.json): ...working... done\n",
      "Solving environment: ...working... failed with initial frozen solve. Retrying with flexible solve.\n",
      "Solving environment: ...working... \n",
      "Found conflicts! Looking for incompatible packages.\n",
      "This can take several minutes.  Press CTRL-C to abort.\n",
      "failed\n"
     ]
    },
    {
     "name": "stderr",
     "output_type": "stream",
     "text": [
      "to be incompatible with the existing python installation in your environment:\n",
      "\n",
      "Specifications:\n",
      "\n",
      "  - imbalanced-learn -> python[version='2.7.*|3.4.*|3.5.*|3.6.*']\n",
      "\n",
      "Your python: python=3.9\n",
      "\n",
      "If python is on the left-most side of the chain, that's the version you've asked for.\n",
      "When python appears to the right, that indicates that the thing on the left is somehow\n",
      "not available for the python version you are constrained to. Note that conda will not\n",
      "change your python version to a different minor version unless you explicitly specify\n",
      "that.\n",
      "\n",
      "\n",
      "\n"
     ]
    }
   ],
   "source": [
    "conda install -c glemaitre imbalanced-learn"
   ]
  },
  {
   "cell_type": "code",
   "execution_count": 8,
   "id": "b49d18b6-5304-4c45-8661-348ee23f19ef",
   "metadata": {},
   "outputs": [
    {
     "name": "stdout",
     "output_type": "stream",
     "text": [
      "Requirement already satisfied: imblearn in c:\\users\\bukola\\anaconda3\\lib\\site-packages (0.0)\n",
      "Requirement already satisfied: imbalanced-learn in c:\\users\\bukola\\anaconda3\\lib\\site-packages (from imblearn) (0.8.1)\n",
      "Requirement already satisfied: numpy>=1.13.3 in c:\\users\\bukola\\anaconda3\\lib\\site-packages (from imbalanced-learn->imblearn) (1.20.3)\n",
      "Requirement already satisfied: scipy>=0.19.1 in c:\\users\\bukola\\anaconda3\\lib\\site-packages (from imbalanced-learn->imblearn) (1.7.1)\n",
      "Requirement already satisfied: scikit-learn>=0.24 in c:\\users\\bukola\\anaconda3\\lib\\site-packages (from imbalanced-learn->imblearn) (0.24.2)\n",
      "Requirement already satisfied: joblib>=0.11 in c:\\users\\bukola\\anaconda3\\lib\\site-packages (from imbalanced-learn->imblearn) (1.1.0)\n",
      "Requirement already satisfied: threadpoolctl>=2.0.0 in c:\\users\\bukola\\anaconda3\\lib\\site-packages (from scikit-learn>=0.24->imbalanced-learn->imblearn) (2.2.0)\n"
     ]
    }
   ],
   "source": [
    "!pip install imblearn"
   ]
  },
  {
   "cell_type": "code",
   "execution_count": 9,
   "id": "9de37b10-690f-4528-9d1e-b8ddfe66d274",
   "metadata": {},
   "outputs": [],
   "source": [
    "from imblearn.over_sampling import SMOTE"
   ]
  },
  {
   "cell_type": "code",
   "execution_count": 10,
   "id": "4dbb43fe-d801-4c30-b6b6-10519d84ddc0",
   "metadata": {},
   "outputs": [],
   "source": [
    "import imblearn"
   ]
  },
  {
   "cell_type": "code",
   "execution_count": 11,
   "id": "7aa7dbdf-9a04-423a-88d0-9532ac83d835",
   "metadata": {},
   "outputs": [],
   "source": [
    "# Ignore warnings\n",
    "import warnings\n",
    "warnings.filterwarnings('ignore')"
   ]
  },
  {
   "cell_type": "code",
   "execution_count": 12,
   "id": "4e434f83-090e-4efd-95f9-af1035dd3095",
   "metadata": {},
   "outputs": [],
   "source": [
    "#Settings\n",
    "pd.set_option('display.max_columns', None)\n",
    "pd.set_option('display.max_rows', None)"
   ]
  },
  {
   "cell_type": "code",
   "execution_count": 13,
   "id": "e79bdc82-a0c5-444c-be89-721a45f75878",
   "metadata": {},
   "outputs": [],
   "source": [
    "#Load Data\n",
    "my_dataset=pd.read_csv(\"my_dataset.csv\")"
   ]
  },
  {
   "cell_type": "code",
   "execution_count": 14,
   "id": "e049c628-d941-404b-ae7c-716efa87a1fd",
   "metadata": {},
   "outputs": [
    {
     "name": "stdout",
     "output_type": "stream",
     "text": [
      "<class 'pandas.core.frame.DataFrame'>\n",
      "RangeIndex: 600100 entries, 0 to 600099\n",
      "Data columns (total 14 columns):\n",
      " #   Column                      Non-Null Count   Dtype  \n",
      "---  ------                      --------------   -----  \n",
      " 0   IPV4_SRC_ADDR               600100 non-null  object \n",
      " 1   L4_SRC_PORT                 600100 non-null  int64  \n",
      " 2   IPV4_DST_ADDR               600100 non-null  object \n",
      " 3   L4_DST_PORT                 600100 non-null  int64  \n",
      " 4   PROTOCOL                    600100 non-null  int64  \n",
      " 5   L7_PROTO                    600100 non-null  float64\n",
      " 6   IN_BYTES                    600100 non-null  int64  \n",
      " 7   OUT_BYTES                   600100 non-null  int64  \n",
      " 8   IN_PKTS                     600100 non-null  int64  \n",
      " 9   OUT_PKTS                    600100 non-null  int64  \n",
      " 10  TCP_FLAGS                   600100 non-null  int64  \n",
      " 11  FLOW_DURATION_MILLISECONDS  600100 non-null  int64  \n",
      " 12  Label                       600100 non-null  int64  \n",
      " 13  Attack                      600100 non-null  object \n",
      "dtypes: float64(1), int64(10), object(3)\n",
      "memory usage: 64.1+ MB\n"
     ]
    }
   ],
   "source": [
    "my_dataset.info()"
   ]
  },
  {
   "cell_type": "code",
   "execution_count": 15,
   "id": "05fa8392-cce4-41d8-9810-d4d24989d19b",
   "metadata": {},
   "outputs": [
    {
     "data": {
      "text/html": [
       "<div>\n",
       "<style scoped>\n",
       "    .dataframe tbody tr th:only-of-type {\n",
       "        vertical-align: middle;\n",
       "    }\n",
       "\n",
       "    .dataframe tbody tr th {\n",
       "        vertical-align: top;\n",
       "    }\n",
       "\n",
       "    .dataframe thead th {\n",
       "        text-align: right;\n",
       "    }\n",
       "</style>\n",
       "<table border=\"1\" class=\"dataframe\">\n",
       "  <thead>\n",
       "    <tr style=\"text-align: right;\">\n",
       "      <th></th>\n",
       "      <th>IPV4_SRC_ADDR</th>\n",
       "      <th>L4_SRC_PORT</th>\n",
       "      <th>IPV4_DST_ADDR</th>\n",
       "      <th>L4_DST_PORT</th>\n",
       "      <th>PROTOCOL</th>\n",
       "      <th>L7_PROTO</th>\n",
       "      <th>IN_BYTES</th>\n",
       "      <th>OUT_BYTES</th>\n",
       "      <th>IN_PKTS</th>\n",
       "      <th>OUT_PKTS</th>\n",
       "      <th>TCP_FLAGS</th>\n",
       "      <th>FLOW_DURATION_MILLISECONDS</th>\n",
       "      <th>Label</th>\n",
       "      <th>Attack</th>\n",
       "    </tr>\n",
       "  </thead>\n",
       "  <tbody>\n",
       "    <tr>\n",
       "      <th>0</th>\n",
       "      <td>192.168.100.6</td>\n",
       "      <td>52670</td>\n",
       "      <td>192.168.100.1</td>\n",
       "      <td>53</td>\n",
       "      <td>17</td>\n",
       "      <td>5.212</td>\n",
       "      <td>71</td>\n",
       "      <td>126</td>\n",
       "      <td>1</td>\n",
       "      <td>1</td>\n",
       "      <td>0</td>\n",
       "      <td>4294966</td>\n",
       "      <td>0</td>\n",
       "      <td>Benign</td>\n",
       "    </tr>\n",
       "    <tr>\n",
       "      <th>1</th>\n",
       "      <td>192.168.100.6</td>\n",
       "      <td>49160</td>\n",
       "      <td>192.168.100.149</td>\n",
       "      <td>4444</td>\n",
       "      <td>6</td>\n",
       "      <td>0.000</td>\n",
       "      <td>217753000</td>\n",
       "      <td>199100</td>\n",
       "      <td>4521</td>\n",
       "      <td>4049</td>\n",
       "      <td>24</td>\n",
       "      <td>4176249</td>\n",
       "      <td>1</td>\n",
       "      <td>Theft</td>\n",
       "    </tr>\n",
       "    <tr>\n",
       "      <th>2</th>\n",
       "      <td>192.168.100.46</td>\n",
       "      <td>3456</td>\n",
       "      <td>192.168.100.5</td>\n",
       "      <td>80</td>\n",
       "      <td>17</td>\n",
       "      <td>0.000</td>\n",
       "      <td>8508021</td>\n",
       "      <td>8918372</td>\n",
       "      <td>9086</td>\n",
       "      <td>9086</td>\n",
       "      <td>0</td>\n",
       "      <td>4175916</td>\n",
       "      <td>0</td>\n",
       "      <td>Benign</td>\n",
       "    </tr>\n",
       "    <tr>\n",
       "      <th>3</th>\n",
       "      <td>192.168.100.3</td>\n",
       "      <td>80</td>\n",
       "      <td>192.168.100.55</td>\n",
       "      <td>8080</td>\n",
       "      <td>6</td>\n",
       "      <td>7.000</td>\n",
       "      <td>8442138</td>\n",
       "      <td>9013406</td>\n",
       "      <td>9086</td>\n",
       "      <td>9086</td>\n",
       "      <td>0</td>\n",
       "      <td>4175916</td>\n",
       "      <td>0</td>\n",
       "      <td>Benign</td>\n",
       "    </tr>\n",
       "    <tr>\n",
       "      <th>4</th>\n",
       "      <td>192.168.100.46</td>\n",
       "      <td>80</td>\n",
       "      <td>192.168.100.5</td>\n",
       "      <td>80</td>\n",
       "      <td>6</td>\n",
       "      <td>7.000</td>\n",
       "      <td>8374706</td>\n",
       "      <td>0</td>\n",
       "      <td>9086</td>\n",
       "      <td>0</td>\n",
       "      <td>0</td>\n",
       "      <td>4175916</td>\n",
       "      <td>0</td>\n",
       "      <td>Benign</td>\n",
       "    </tr>\n",
       "  </tbody>\n",
       "</table>\n",
       "</div>"
      ],
      "text/plain": [
       "    IPV4_SRC_ADDR  L4_SRC_PORT    IPV4_DST_ADDR  L4_DST_PORT  PROTOCOL  \\\n",
       "0   192.168.100.6        52670    192.168.100.1           53        17   \n",
       "1   192.168.100.6        49160  192.168.100.149         4444         6   \n",
       "2  192.168.100.46         3456    192.168.100.5           80        17   \n",
       "3   192.168.100.3           80   192.168.100.55         8080         6   \n",
       "4  192.168.100.46           80    192.168.100.5           80         6   \n",
       "\n",
       "   L7_PROTO   IN_BYTES  OUT_BYTES  IN_PKTS  OUT_PKTS  TCP_FLAGS  \\\n",
       "0     5.212         71        126        1         1          0   \n",
       "1     0.000  217753000     199100     4521      4049         24   \n",
       "2     0.000    8508021    8918372     9086      9086          0   \n",
       "3     7.000    8442138    9013406     9086      9086          0   \n",
       "4     7.000    8374706          0     9086         0          0   \n",
       "\n",
       "   FLOW_DURATION_MILLISECONDS  Label  Attack  \n",
       "0                     4294966      0  Benign  \n",
       "1                     4176249      1   Theft  \n",
       "2                     4175916      0  Benign  \n",
       "3                     4175916      0  Benign  \n",
       "4                     4175916      0  Benign  "
      ]
     },
     "execution_count": 15,
     "metadata": {},
     "output_type": "execute_result"
    }
   ],
   "source": [
    "my_dataset.head()"
   ]
  },
  {
   "cell_type": "code",
   "execution_count": 16,
   "id": "6b4413e7-1e14-47bc-8255-b97d00c1355b",
   "metadata": {},
   "outputs": [
    {
     "name": "stdout",
     "output_type": "stream",
     "text": [
      "Total columns with only 1 unique value: 0\n"
     ]
    }
   ],
   "source": [
    "drop_cols = []\n",
    "for i in my_dataset.columns:\n",
    "    if len(my_dataset[i].unique())==1:\n",
    "        drop_cols.append(i)\n",
    "print(\"Total columns with only 1 unique value:\", len(drop_cols))\n",
    "my_dataset.drop(drop_cols, 1, inplace=True)"
   ]
  },
  {
   "cell_type": "code",
   "execution_count": 17,
   "id": "666c12ef-43af-446c-ba61-0376c8761fc3",
   "metadata": {},
   "outputs": [],
   "source": [
    "my_dataset.dropna(1,inplace=True)"
   ]
  },
  {
   "cell_type": "code",
   "execution_count": 18,
   "id": "d54bba63-3fd3-4247-96ed-b4afeb1ce40b",
   "metadata": {},
   "outputs": [
    {
     "name": "stdout",
     "output_type": "stream",
     "text": [
      "<class 'pandas.core.frame.DataFrame'>\n",
      "RangeIndex: 600100 entries, 0 to 600099\n",
      "Data columns (total 14 columns):\n",
      " #   Column                      Non-Null Count   Dtype  \n",
      "---  ------                      --------------   -----  \n",
      " 0   IPV4_SRC_ADDR               600100 non-null  object \n",
      " 1   L4_SRC_PORT                 600100 non-null  int64  \n",
      " 2   IPV4_DST_ADDR               600100 non-null  object \n",
      " 3   L4_DST_PORT                 600100 non-null  int64  \n",
      " 4   PROTOCOL                    600100 non-null  int64  \n",
      " 5   L7_PROTO                    600100 non-null  float64\n",
      " 6   IN_BYTES                    600100 non-null  int64  \n",
      " 7   OUT_BYTES                   600100 non-null  int64  \n",
      " 8   IN_PKTS                     600100 non-null  int64  \n",
      " 9   OUT_PKTS                    600100 non-null  int64  \n",
      " 10  TCP_FLAGS                   600100 non-null  int64  \n",
      " 11  FLOW_DURATION_MILLISECONDS  600100 non-null  int64  \n",
      " 12  Label                       600100 non-null  int64  \n",
      " 13  Attack                      600100 non-null  object \n",
      "dtypes: float64(1), int64(10), object(3)\n",
      "memory usage: 64.1+ MB\n"
     ]
    }
   ],
   "source": [
    "my_dataset.info()"
   ]
  },
  {
   "cell_type": "code",
   "execution_count": 19,
   "id": "ea20b84b-828a-4cbe-8fe2-8f137aac3d84",
   "metadata": {},
   "outputs": [
    {
     "data": {
      "image/png": "[encoded data removed]",
      "text/plain": [
       "<Figure size 864x720 with 2 Axes>"
      ]
     },
     "metadata": {
      "needs_background": "light"
     },
     "output_type": "display_data"
    }
   ],
   "source": [
    "my_dataset= my_dataset.dropna('columns')# drop columns with NaN\n",
    "\n",
    "my_dataset= my_dataset[[col for col in my_dataset if my_dataset[col].nunique() > 1]]# keep columns where there are more than 1 unique values\n",
    "\n",
    "corr = my_dataset.corr()\n",
    "\n",
    "plt.figure(figsize=(12,10))\n",
    "\n",
    "sns.heatmap(corr)\n",
    "\n",
    "plt.show()"
   ]
  },
  {
   "cell_type": "code",
   "execution_count": 20,
   "id": "7c04ccb1-720f-48f5-824f-3d015343fc5b",
   "metadata": {},
   "outputs": [
    {
     "data": {
      "text/html": [
       "<div>\n",
       "<style scoped>\n",
       "    .dataframe tbody tr th:only-of-type {\n",
       "        vertical-align: middle;\n",
       "    }\n",
       "\n",
       "    .dataframe tbody tr th {\n",
       "        vertical-align: top;\n",
       "    }\n",
       "\n",
       "    .dataframe thead th {\n",
       "        text-align: right;\n",
       "    }\n",
       "</style>\n",
       "<table border=\"1\" class=\"dataframe\">\n",
       "  <thead>\n",
       "    <tr style=\"text-align: right;\">\n",
       "      <th></th>\n",
       "      <th>L4_SRC_PORT</th>\n",
       "      <th>L4_DST_PORT</th>\n",
       "      <th>PROTOCOL</th>\n",
       "      <th>L7_PROTO</th>\n",
       "      <th>IN_BYTES</th>\n",
       "      <th>OUT_BYTES</th>\n",
       "      <th>IN_PKTS</th>\n",
       "      <th>OUT_PKTS</th>\n",
       "      <th>TCP_FLAGS</th>\n",
       "      <th>FLOW_DURATION_MILLISECONDS</th>\n",
       "      <th>Label</th>\n",
       "    </tr>\n",
       "  </thead>\n",
       "  <tbody>\n",
       "    <tr>\n",
       "      <th>count</th>\n",
       "      <td>180030.000000</td>\n",
       "      <td>180030.000000</td>\n",
       "      <td>180030.00000</td>\n",
       "      <td>180030.000000</td>\n",
       "      <td>1.800300e+05</td>\n",
       "      <td>1.800300e+05</td>\n",
       "      <td>180030.000000</td>\n",
       "      <td>180030.000000</td>\n",
       "      <td>180030.000000</td>\n",
       "      <td>1.800300e+05</td>\n",
       "      <td>180030.000000</td>\n",
       "    </tr>\n",
       "    <tr>\n",
       "      <th>mean</th>\n",
       "      <td>46550.677265</td>\n",
       "      <td>7975.248192</td>\n",
       "      <td>6.58182</td>\n",
       "      <td>8.989024</td>\n",
       "      <td>8.570278e+03</td>\n",
       "      <td>4.940851e+03</td>\n",
       "      <td>12.543276</td>\n",
       "      <td>5.736005</td>\n",
       "      <td>21.865861</td>\n",
       "      <td>3.475628e+06</td>\n",
       "      <td>0.976693</td>\n",
       "    </tr>\n",
       "    <tr>\n",
       "      <th>std</th>\n",
       "      <td>12016.939538</td>\n",
       "      <td>14132.240182</td>\n",
       "      <td>2.55893</td>\n",
       "      <td>35.045190</td>\n",
       "      <td>2.221175e+05</td>\n",
       "      <td>3.913169e+05</td>\n",
       "      <td>245.665646</td>\n",
       "      <td>169.866978</td>\n",
       "      <td>8.108470</td>\n",
       "      <td>1.660000e+06</td>\n",
       "      <td>0.150878</td>\n",
       "    </tr>\n",
       "    <tr>\n",
       "      <th>min</th>\n",
       "      <td>0.000000</td>\n",
       "      <td>0.000000</td>\n",
       "      <td>1.00000</td>\n",
       "      <td>0.000000</td>\n",
       "      <td>2.800000e+01</td>\n",
       "      <td>0.000000e+00</td>\n",
       "      <td>1.000000</td>\n",
       "      <td>0.000000</td>\n",
       "      <td>0.000000</td>\n",
       "      <td>0.000000e+00</td>\n",
       "      <td>0.000000</td>\n",
       "    </tr>\n",
       "    <tr>\n",
       "      <th>25%</th>\n",
       "      <td>39210.000000</td>\n",
       "      <td>80.000000</td>\n",
       "      <td>6.00000</td>\n",
       "      <td>0.000000</td>\n",
       "      <td>4.400000e+01</td>\n",
       "      <td>4.000000e+01</td>\n",
       "      <td>1.000000</td>\n",
       "      <td>1.000000</td>\n",
       "      <td>22.000000</td>\n",
       "      <td>4.278545e+06</td>\n",
       "      <td>1.000000</td>\n",
       "    </tr>\n",
       "    <tr>\n",
       "      <th>50%</th>\n",
       "      <td>47892.000000</td>\n",
       "      <td>1875.000000</td>\n",
       "      <td>6.00000</td>\n",
       "      <td>0.000000</td>\n",
       "      <td>4.400000e+01</td>\n",
       "      <td>4.000000e+01</td>\n",
       "      <td>1.000000</td>\n",
       "      <td>1.000000</td>\n",
       "      <td>22.000000</td>\n",
       "      <td>4.294966e+06</td>\n",
       "      <td>1.000000</td>\n",
       "    </tr>\n",
       "    <tr>\n",
       "      <th>75%</th>\n",
       "      <td>55307.000000</td>\n",
       "      <td>8009.000000</td>\n",
       "      <td>6.00000</td>\n",
       "      <td>7.000000</td>\n",
       "      <td>1.120000e+02</td>\n",
       "      <td>4.000000e+01</td>\n",
       "      <td>2.000000</td>\n",
       "      <td>1.000000</td>\n",
       "      <td>22.000000</td>\n",
       "      <td>4.294967e+06</td>\n",
       "      <td>1.000000</td>\n",
       "    </tr>\n",
       "    <tr>\n",
       "      <th>max</th>\n",
       "      <td>65535.000000</td>\n",
       "      <td>65535.000000</td>\n",
       "      <td>17.00000</td>\n",
       "      <td>244.000000</td>\n",
       "      <td>9.519928e+06</td>\n",
       "      <td>1.513069e+08</td>\n",
       "      <td>9598.000000</td>\n",
       "      <td>13807.000000</td>\n",
       "      <td>214.000000</td>\n",
       "      <td>4.294967e+06</td>\n",
       "      <td>1.000000</td>\n",
       "    </tr>\n",
       "  </tbody>\n",
       "</table>\n",
       "</div>"
      ],
      "text/plain": [
       "         L4_SRC_PORT    L4_DST_PORT      PROTOCOL       L7_PROTO  \\\n",
       "count  180030.000000  180030.000000  180030.00000  180030.000000   \n",
       "mean    46550.677265    7975.248192       6.58182       8.989024   \n",
       "std     12016.939538   14132.240182       2.55893      35.045190   \n",
       "min         0.000000       0.000000       1.00000       0.000000   \n",
       "25%     39210.000000      80.000000       6.00000       0.000000   \n",
       "50%     47892.000000    1875.000000       6.00000       0.000000   \n",
       "75%     55307.000000    8009.000000       6.00000       7.000000   \n",
       "max     65535.000000   65535.000000      17.00000     244.000000   \n",
       "\n",
       "           IN_BYTES     OUT_BYTES        IN_PKTS       OUT_PKTS  \\\n",
       "count  1.800300e+05  1.800300e+05  180030.000000  180030.000000   \n",
       "mean   8.570278e+03  4.940851e+03      12.543276       5.736005   \n",
       "std    2.221175e+05  3.913169e+05     245.665646     169.866978   \n",
       "min    2.800000e+01  0.000000e+00       1.000000       0.000000   \n",
       "25%    4.400000e+01  4.000000e+01       1.000000       1.000000   \n",
       "50%    4.400000e+01  4.000000e+01       1.000000       1.000000   \n",
       "75%    1.120000e+02  4.000000e+01       2.000000       1.000000   \n",
       "max    9.519928e+06  1.513069e+08    9598.000000   13807.000000   \n",
       "\n",
       "           TCP_FLAGS  FLOW_DURATION_MILLISECONDS          Label  \n",
       "count  180030.000000                1.800300e+05  180030.000000  \n",
       "mean       21.865861                3.475628e+06       0.976693  \n",
       "std         8.108470                1.660000e+06       0.150878  \n",
       "min         0.000000                0.000000e+00       0.000000  \n",
       "25%        22.000000                4.278545e+06       1.000000  \n",
       "50%        22.000000                4.294966e+06       1.000000  \n",
       "75%        22.000000                4.294967e+06       1.000000  \n",
       "max       214.000000                4.294967e+06       1.000000  "
      ]
     },
     "execution_count": 20,
     "metadata": {},
     "output_type": "execute_result"
    }
   ],
   "source": [
    "#Split dataset on train and test\n",
    "from sklearn.model_selection import train_test_split\n",
    "train, test=train_test_split(my_dataset,test_size=0.3, random_state=10)\n",
    "\n",
    "#Exploratory Analysis\n",
    "# Descriptive statistics\n",
    "train.describe()\n",
    "test.describe()\n"
   ]
  },
  {
   "cell_type": "code",
   "execution_count": 21,
   "id": "d3f018ea-057a-4c70-9a33-30b1c5f1268e",
   "metadata": {},
   "outputs": [
    {
     "data": {
      "text/plain": [
       "1    175834\n",
       "0      4196\n",
       "Name: Label, dtype: int64"
      ]
     },
     "execution_count": 21,
     "metadata": {},
     "output_type": "execute_result"
    }
   ],
   "source": [
    "# Packet Attack Distribution\n",
    "train['Label'].value_counts()\n",
    "test['Label'].value_counts()"
   ]
  },
  {
   "cell_type": "code",
   "execution_count": 22,
   "id": "92d151b6-3efc-4e79-85d6-11c9f8542221",
   "metadata": {},
   "outputs": [],
   "source": [
    "#Scalling numerical attributes\n",
    "from sklearn.preprocessing import StandardScaler\n",
    "scaler = StandardScaler()"
   ]
  },
  {
   "cell_type": "code",
   "execution_count": 23,
   "id": "f7e18a7b-aa24-41e0-8129-2b6c5518f14e",
   "metadata": {},
   "outputs": [],
   "source": [
    "# extract numerical attributes and scale it to have zero mean and unit variance  \n",
    "cols = train.select_dtypes(include=['float64','int64']).columns\n",
    "sc_train = scaler.fit_transform(train.select_dtypes(include=['float64','int64']))\n",
    "sc_test = scaler.fit_transform(test.select_dtypes(include=['float64','int64']))\n"
   ]
  },
  {
   "cell_type": "code",
   "execution_count": 24,
   "id": "fcd9332e-2e08-47e8-a048-0a07ca4c0173",
   "metadata": {},
   "outputs": [],
   "source": [
    "# turn the result back to a dataframe\n",
    "sc_traindf = pd.DataFrame(sc_train, columns = cols)\n",
    "sc_testdf = pd.DataFrame(sc_test, columns = cols)"
   ]
  },
  {
   "cell_type": "code",
   "execution_count": 25,
   "id": "3be53de0-c11c-45af-9745-754219db1849",
   "metadata": {},
   "outputs": [],
   "source": [
    "# importing one hot encoder from sklearn \n",
    "from sklearn.preprocessing import OneHotEncoder "
   ]
  },
  {
   "cell_type": "code",
   "execution_count": 26,
   "id": "3983fda0-4422-4d1a-8ccb-cff8a4dbe05c",
   "metadata": {},
   "outputs": [],
   "source": [
    "# creating one hot encoder object \n",
    "onehotencoder = OneHotEncoder() "
   ]
  },
  {
   "cell_type": "code",
   "execution_count": 27,
   "id": "d3430885-04a1-4d7b-94ad-118d0d07e8d0",
   "metadata": {},
   "outputs": [],
   "source": [
    "trainDep = train['Label'].values.reshape(-1,1)\n",
    "trainDep = onehotencoder.fit_transform(trainDep).toarray()\n",
    "testDep = test['Label'].values.reshape(-1,1)\n",
    "testDep = onehotencoder.fit_transform(testDep).toarray()"
   ]
  },
  {
   "cell_type": "code",
   "execution_count": 28,
   "id": "6ad79ba6-f21e-48ed-be3e-8db541b51483",
   "metadata": {},
   "outputs": [],
   "source": [
    "train_X=sc_traindf\n",
    "train_y=trainDep[:,0]\n",
    "\n",
    "test_X=sc_testdf\n",
    "test_y=testDep[:,0]"
   ]
  },
  {
   "cell_type": "code",
   "execution_count": 29,
   "id": "e0ce496b-4043-4fd7-882d-9603fa7983b2",
   "metadata": {},
   "outputs": [
    {
     "data": {
      "image/png": "[encoded data removed]",
      "text/plain": [
       "<Figure size 792x288 with 1 Axes>"
      ]
     },
     "metadata": {
      "needs_background": "light"
     },
     "output_type": "display_data"
    }
   ],
   "source": [
    "#Feature Selection\n",
    "from sklearn.ensemble import RandomForestClassifier\n",
    "rfc = RandomForestClassifier();\n",
    "\n",
    "# fit random forest classifier on the training set\n",
    "rfc.fit(train_X, train_y);\n",
    "\n",
    "# extract important features\n",
    "score = np.round(rfc.feature_importances_,3)\n",
    "importances = pd.DataFrame({'feature':train_X.columns,'importance':score})\n",
    "importances = importances.sort_values('importance',ascending=False).set_index('feature')\n",
    "\n",
    "# plot importances\n",
    "plt.rcParams['figure.figsize'] = (11, 4)\n",
    "importances.plot.bar();"
   ]
  },
  {
   "cell_type": "code",
   "execution_count": 30,
   "id": "d80e1c92-4af9-4e53-92f2-b26cc5968260",
   "metadata": {},
   "outputs": [],
   "source": [
    "#Recursive feature elimination\n",
    "from sklearn.feature_selection import RFE\n",
    "import itertools\n",
    "\n",
    "rfc = RandomForestClassifier()\n",
    "\n",
    "# create the RFE model and select 10 attributes\n",
    "rfe = RFE(rfc, n_features_to_select=10)\n",
    "rfe = rfe.fit(train_X, train_y)\n",
    "\n",
    "# summarize the selection of the attributes\n",
    "feature_map = [(i, v) for i, v in itertools.zip_longest(rfe.get_support(), train_X.columns)]\n",
    "selected_features = [v for i, v in feature_map if i==True]\n",
    "\n",
    "selected_features\n",
    "\n",
    "a = [i[0] for i in feature_map]\n",
    "train_X = train_X.iloc[:,a]\n",
    "test_X = test_X.iloc[:,a]"
   ]
  },
  {
   "cell_type": "code",
   "execution_count": 31,
   "id": "8a0c9ebd-0249-437e-a270-4be02df99ac0",
   "metadata": {},
   "outputs": [],
   "source": [
    "#Dataset Partition\n",
    "X_train,X_test,Y_train,Y_test = train_test_split(train_X,train_y,train_size=0.70, random_state=2)\n",
    "\n",
    "#Fitting Models\n",
    "from sklearn.svm import SVC\n",
    "from sklearn.naive_bayes import BernoulliNB \n",
    "from sklearn import tree\n",
    "from sklearn.model_selection import cross_val_score\n",
    "from sklearn.neighbors import KNeighborsClassifier\n",
    "from sklearn.linear_model import LogisticRegression\n",
    "from sklearn.svm import SVC\n"
   ]
  },
  {
   "cell_type": "code",
   "execution_count": 32,
   "id": "6d07c4d3-8093-46bd-8e0c-1a8bd7e2bdf3",
   "metadata": {},
   "outputs": [],
   "source": [
    "# Train KNeighborsClassifier Model\n",
    "KNN_Classifier = KNeighborsClassifier(n_jobs=-1)\n",
    "KNN_Classifier.fit(X_train, Y_train); "
   ]
  },
  {
   "cell_type": "code",
   "execution_count": 33,
   "id": "4fdf41a7-e8a0-4aad-b237-29afcec8c5e3",
   "metadata": {},
   "outputs": [],
   "source": [
    "# Train LogisticRegression Model\n",
    "LGR_Classifier = LogisticRegression(n_jobs=-1, random_state=0)\n",
    "LGR_Classifier.fit(X_train, Y_train);"
   ]
  },
  {
   "cell_type": "code",
   "execution_count": 34,
   "id": "60c5e226-3d10-41cd-a02c-a8bb4e70931d",
   "metadata": {},
   "outputs": [
    {
     "data": {
      "text/plain": [
       "BernoulliNB()"
      ]
     },
     "execution_count": 34,
     "metadata": {},
     "output_type": "execute_result"
    }
   ],
   "source": [
    "# Train Gaussian Naive Baye Model\n",
    "BNB_Classifier = BernoulliNB()\n",
    "BNB_Classifier.fit(X_train, Y_train)"
   ]
  },
  {
   "cell_type": "code",
   "execution_count": 35,
   "id": "10fa0320-cc78-4e7c-a67c-73090579b081",
   "metadata": {},
   "outputs": [
    {
     "data": {
      "text/plain": [
       "DecisionTreeClassifier(criterion='entropy', random_state=0)"
      ]
     },
     "execution_count": 35,
     "metadata": {},
     "output_type": "execute_result"
    }
   ],
   "source": [
    "# Train Decision Tree Model\n",
    "DTC_Classifier = tree.DecisionTreeClassifier(criterion='entropy', random_state=0)\n",
    "DTC_Classifier.fit(X_train, Y_train)"
   ]
  },
  {
   "cell_type": "code",
   "execution_count": 36,
   "id": "b0fcd55e-a729-414c-8f39-f168f926f0b6",
   "metadata": {},
   "outputs": [
    {
     "data": {
      "text/plain": [
       "SVC()"
      ]
     },
     "execution_count": 36,
     "metadata": {},
     "output_type": "execute_result"
    }
   ],
   "source": [
    "# Train SVM\n",
    "SVM_Classifier = SVC(gamma = 'scale')\n",
    "SVM_Classifier.fit(X_train, Y_train)"
   ]
  },
  {
   "cell_type": "code",
   "execution_count": 40,
   "id": "97223bc9-3a4d-49b1-af58-0e3a62cb134b",
   "metadata": {},
   "outputs": [
    {
     "name": "stdout",
     "output_type": "stream",
     "text": [
      "\n",
      "============================== Naive Baye Classifier Model Evaluation ==============================\n",
      "\n",
      "Cross Validation Mean Score:\n",
      " 0.9995714991321899\n",
      "\n",
      "Model Accuracy:\n",
      " 0.9995714999880972\n",
      "\n",
      "Confusion matrix:\n",
      " [[287157    126]\n",
      " [     0   6766]]\n",
      "\n",
      "Classification report:\n",
      "               precision    recall  f1-score   support\n",
      "\n",
      "         0.0       1.00      1.00      1.00    287283\n",
      "         1.0       0.98      1.00      0.99      6766\n",
      "\n",
      "    accuracy                           1.00    294049\n",
      "   macro avg       0.99      1.00      1.00    294049\n",
      "weighted avg       1.00      1.00      1.00    294049\n",
      "\n",
      "\n",
      "Mean Absolute Error:\n",
      " 0.0004285000119027781\n",
      "\n",
      "R2_score:\n",
      " 0.9809388837022489\n",
      "\n",
      "F1_score:\n",
      " 0.9907746375750476\n",
      "\n",
      "Testing time:  3.2134618759155273\n",
      "\n",
      "\n",
      "============================== Decision Tree Classifier Model Evaluation ==============================\n",
      "\n",
      "Cross Validation Mean Score:\n",
      " 1.0\n",
      "\n",
      "Model Accuracy:\n",
      " 1.0\n",
      "\n",
      "Confusion matrix:\n",
      " [[287283      0]\n",
      " [     0   6766]]\n",
      "\n",
      "Classification report:\n",
      "               precision    recall  f1-score   support\n",
      "\n",
      "         0.0       1.00      1.00      1.00    287283\n",
      "         1.0       1.00      1.00      1.00      6766\n",
      "\n",
      "    accuracy                           1.00    294049\n",
      "   macro avg       1.00      1.00      1.00    294049\n",
      "weighted avg       1.00      1.00      1.00    294049\n",
      "\n",
      "\n",
      "Mean Absolute Error:\n",
      " 0.0\n",
      "\n",
      "R2_score:\n",
      " 1.0\n",
      "\n",
      "F1_score:\n",
      " 1.0\n",
      "\n",
      "Testing time:  3.0338361263275146\n",
      "\n",
      "\n",
      "============================== KNeighborsClassifier Model Evaluation ==============================\n",
      "\n",
      "Cross Validation Mean Score:\n",
      " 0.9999829959734434\n",
      "\n",
      "Model Accuracy:\n",
      " 0.999986396825019\n",
      "\n",
      "Confusion matrix:\n",
      " [[287279      4]\n",
      " [     0   6766]]\n",
      "\n",
      "Classification report:\n",
      "               precision    recall  f1-score   support\n",
      "\n",
      "         0.0       1.00      1.00      1.00    287283\n",
      "         1.0       1.00      1.00      1.00      6766\n",
      "\n",
      "    accuracy                           1.00    294049\n",
      "   macro avg       1.00      1.00      1.00    294049\n",
      "weighted avg       1.00      1.00      1.00    294049\n",
      "\n",
      "\n",
      "Mean Absolute Error:\n",
      " 1.3603174981040576e-05\n",
      "\n",
      "R2_score:\n",
      " 0.9993948851968968\n",
      "\n",
      "F1_score:\n",
      " 0.9997044917257684\n",
      "\n",
      "Testing time:  3133.7706604003906\n",
      "\n",
      "\n",
      "============================== LogisticRegression Model Evaluation ==============================\n",
      "\n",
      "Cross Validation Mean Score:\n",
      " 0.99999659921782\n",
      "\n",
      "Model Accuracy:\n",
      " 1.0\n",
      "\n",
      "Confusion matrix:\n",
      " [[287283      0]\n",
      " [     0   6766]]\n",
      "\n",
      "Classification report:\n",
      "               precision    recall  f1-score   support\n",
      "\n",
      "         0.0       1.00      1.00      1.00    287283\n",
      "         1.0       1.00      1.00      1.00      6766\n",
      "\n",
      "    accuracy                           1.00    294049\n",
      "   macro avg       1.00      1.00      1.00    294049\n",
      "weighted avg       1.00      1.00      1.00    294049\n",
      "\n",
      "\n",
      "Mean Absolute Error:\n",
      " 0.0\n",
      "\n",
      "R2_score:\n",
      " 1.0\n",
      "\n",
      "F1_score:\n",
      " 1.0\n",
      "\n",
      "Testing time:  27.888418912887573\n",
      "\n",
      "\n",
      "============================== Support Vector Machine Model Evaluation ==============================\n",
      "\n",
      "Cross Validation Mean Score:\n",
      " 0.9999659919468866\n",
      "\n",
      "Model Accuracy:\n",
      " 1.0\n",
      "\n",
      "Confusion matrix:\n",
      " [[287283      0]\n",
      " [     0   6766]]\n",
      "\n",
      "Classification report:\n",
      "               precision    recall  f1-score   support\n",
      "\n",
      "         0.0       1.00      1.00      1.00    287283\n",
      "         1.0       1.00      1.00      1.00      6766\n",
      "\n",
      "    accuracy                           1.00    294049\n",
      "   macro avg       1.00      1.00      1.00    294049\n",
      "weighted avg       1.00      1.00      1.00    294049\n",
      "\n",
      "\n",
      "Mean Absolute Error:\n",
      " 0.0\n",
      "\n",
      "R2_score:\n",
      " 1.0\n",
      "\n",
      "F1_score:\n",
      " 1.0\n",
      "\n",
      "Testing time:  42.53512215614319\n",
      "\n"
     ]
    }
   ],
   "source": [
    "#Evaluate Models\n",
    "from sklearn import metrics\n",
    "models = []\n",
    "models.append(('Naive Baye Classifier', BNB_Classifier))\n",
    "models.append(('Decision Tree Classifier', DTC_Classifier))\n",
    "models.append(('KNeighborsClassifier', KNN_Classifier))\n",
    "models.append(('LogisticRegression', LGR_Classifier))\n",
    "models.append(('Support Vector Machine', SVM_Classifier))\n",
    "\n",
    "for i, v in models:\n",
    "    start_time = time.time()\n",
    "    scores = cross_val_score(v, X_train, Y_train, cv=10)\n",
    "    accuracy = metrics.accuracy_score(Y_train, v.predict(X_train))\n",
    "    confusion_matrix = metrics.confusion_matrix(Y_train, v.predict(X_train))\n",
    "    classification = metrics.classification_report(Y_train, v.predict(X_train))\n",
    "    MAE = metrics.mean_absolute_error(Y_train, v.predict(X_train))\n",
    "    R2_Score = metrics.r2_score(Y_train, v.predict(X_train))\n",
    "    F1_Score = metrics.f1_score(Y_train, v.predict(X_train))\n",
    "    end_time = time.time()\n",
    "    print()\n",
    "    print('============================== {} Model Evaluation =============================='.format(i))\n",
    "    print()\n",
    "    print (\"Cross Validation Mean Score:\" \"\\n\", scores.mean())\n",
    "    print()\n",
    "    print (\"Model Accuracy:\" \"\\n\", accuracy)\n",
    "    print()\n",
    "    print(\"Confusion matrix:\" \"\\n\", confusion_matrix)\n",
    "    print()\n",
    "    print(\"Classification report:\" \"\\n\", classification) \n",
    "    print()\n",
    "    print(\"Mean Absolute Error:\" \"\\n\", MAE) \n",
    "    print()\n",
    "    print(\"R2_score:\" \"\\n\", R2_Score ) \n",
    "    print()\n",
    "    print(\"F1_score:\" \"\\n\", F1_Score ) \n",
    "    print()\n",
    "    print(\"Testing time: \",end_time-start_time)\n",
    "    print()\n",
    "    "
   ]
  },
  {
   "cell_type": "code",
   "execution_count": 41,
   "id": "3f2ee36e-9023-49b6-b7c2-ea0d2911b9cf",
   "metadata": {},
   "outputs": [
    {
     "name": "stdout",
     "output_type": "stream",
     "text": [
      "\n",
      "============================== Naive Baye Classifier Model Test Results ==============================\n",
      "\n",
      "Model Accuracy:\n",
      " 0.9994921481340412\n",
      "\n",
      "Confusion matrix:\n",
      " [[123060     64]\n",
      " [     0   2897]]\n",
      "\n",
      "Classification report:\n",
      "               precision    recall  f1-score   support\n",
      "\n",
      "         0.0       1.00      1.00      1.00    123124\n",
      "         1.0       0.98      1.00      0.99      2897\n",
      "\n",
      "    accuracy                           1.00    126021\n",
      "   macro avg       0.99      1.00      0.99    126021\n",
      "weighted avg       1.00      1.00      1.00    126021\n",
      "\n",
      "\n",
      "Mean Absolute Error:\n",
      " 0.0005078518659588482\n",
      "\n",
      "R2_score:\n",
      " 0.9773883797007189\n",
      "\n",
      "F1_score:\n",
      " 0.98907476954592\n",
      "\n",
      "Testing time:  0.4402647018432617\n",
      "\n",
      "\n",
      "============================== Decision Tree Classifier Model Test Results ==============================\n",
      "\n",
      "Model Accuracy:\n",
      " 1.0\n",
      "\n",
      "Confusion matrix:\n",
      " [[123124      0]\n",
      " [     0   2897]]\n",
      "\n",
      "Classification report:\n",
      "               precision    recall  f1-score   support\n",
      "\n",
      "         0.0       1.00      1.00      1.00    123124\n",
      "         1.0       1.00      1.00      1.00      2897\n",
      "\n",
      "    accuracy                           1.00    126021\n",
      "   macro avg       1.00      1.00      1.00    126021\n",
      "weighted avg       1.00      1.00      1.00    126021\n",
      "\n",
      "\n",
      "Mean Absolute Error:\n",
      " 0.0\n",
      "\n",
      "R2_score:\n",
      " 1.0\n",
      "\n",
      "F1_score:\n",
      " 1.0\n",
      "\n",
      "Testing time:  0.34578990936279297\n",
      "\n",
      "\n",
      "============================== KNeighborsClassifier Model Test Results ==============================\n",
      "\n",
      "Model Accuracy:\n",
      " 1.0\n",
      "\n",
      "Confusion matrix:\n",
      " [[123124      0]\n",
      " [     0   2897]]\n",
      "\n",
      "Classification report:\n",
      "               precision    recall  f1-score   support\n",
      "\n",
      "         0.0       1.00      1.00      1.00    123124\n",
      "         1.0       1.00      1.00      1.00      2897\n",
      "\n",
      "    accuracy                           1.00    126021\n",
      "   macro avg       1.00      1.00      1.00    126021\n",
      "weighted avg       1.00      1.00      1.00    126021\n",
      "\n",
      "\n",
      "Mean Absolute Error:\n",
      " 0.0\n",
      "\n",
      "R2_score:\n",
      " 1.0\n",
      "\n",
      "F1_score:\n",
      " 1.0\n",
      "\n",
      "Testing time:  55.7609748840332\n",
      "\n",
      "\n",
      "============================== LogisticRegression Model Test Results ==============================\n",
      "\n",
      "Model Accuracy:\n",
      " 1.0\n",
      "\n",
      "Confusion matrix:\n",
      " [[123124      0]\n",
      " [     0   2897]]\n",
      "\n",
      "Classification report:\n",
      "               precision    recall  f1-score   support\n",
      "\n",
      "         0.0       1.00      1.00      1.00    123124\n",
      "         1.0       1.00      1.00      1.00      2897\n",
      "\n",
      "    accuracy                           1.00    126021\n",
      "   macro avg       1.00      1.00      1.00    126021\n",
      "weighted avg       1.00      1.00      1.00    126021\n",
      "\n",
      "\n",
      "Mean Absolute Error:\n",
      " 0.0\n",
      "\n",
      "R2_score:\n",
      " 1.0\n",
      "\n",
      "F1_score:\n",
      " 1.0\n",
      "\n",
      "Testing time:  0.3194613456726074\n",
      "\n",
      "\n",
      "============================== Support Vector Machine Model Test Results ==============================\n",
      "\n",
      "Model Accuracy:\n",
      " 0.999960324072972\n",
      "\n",
      "Confusion matrix:\n",
      " [[123119      5]\n",
      " [     0   2897]]\n",
      "\n",
      "Classification report:\n",
      "               precision    recall  f1-score   support\n",
      "\n",
      "         0.0       1.00      1.00      1.00    123124\n",
      "         1.0       1.00      1.00      1.00      2897\n",
      "\n",
      "    accuracy                           1.00    126021\n",
      "   macro avg       1.00      1.00      1.00    126021\n",
      "weighted avg       1.00      1.00      1.00    126021\n",
      "\n",
      "\n",
      "Mean Absolute Error:\n",
      " 3.967592702803501e-05\n",
      "\n",
      "R2_score:\n",
      " 0.9982334671641186\n",
      "\n",
      "F1_score:\n",
      " 0.9991377823762717\n",
      "\n",
      "Testing time:  8.354476690292358\n",
      "\n"
     ]
    }
   ],
   "source": [
    "#Validate Models\n",
    "for i, v in models:\n",
    "    start_time = time.time()\n",
    "    accuracy = metrics.accuracy_score(Y_test, v.predict(X_test))\n",
    "    confusion_matrix = metrics.confusion_matrix(Y_test, v.predict(X_test))\n",
    "    classification = metrics.classification_report(Y_test, v.predict(X_test))\n",
    "    MAE = metrics.mean_absolute_error(Y_test, v.predict(X_test))\n",
    "    R2_Score = metrics.r2_score(Y_test, v.predict(X_test))\n",
    "    F1_Score = metrics.f1_score(Y_test, v.predict(X_test))\n",
    "    end_time = time.time()\n",
    "    print()\n",
    "    print('============================== {} Model Test Results =============================='.format(i))\n",
    "    print()\n",
    "    print (\"Model Accuracy:\" \"\\n\", accuracy)\n",
    "    print()\n",
    "    print(\"Confusion matrix:\" \"\\n\", confusion_matrix)\n",
    "    print()\n",
    "    print(\"Classification report:\" \"\\n\", classification) \n",
    "    print()\n",
    "    print(\"Mean Absolute Error:\" \"\\n\", MAE)  \n",
    "    print()\n",
    "    print(\"R2_score:\" \"\\n\", R2_Score ) \n",
    "    print()\n",
    "    print(\"F1_score:\" \"\\n\", F1_Score ) \n",
    "    print()\n",
    "    print(\"Testing time: \",end_time-start_time)\n",
    "    print()"
   ]
  },
  {
   "cell_type": "code",
   "execution_count": 48,
   "id": "fcbfd4d1-7b00-4967-bbcb-832906eced30",
   "metadata": {},
   "outputs": [
    {
     "data": {
      "text/plain": [
       "<BarContainer object of 6 artists>"
      ]
     },
     "execution_count": 48,
     "metadata": {},
     "output_type": "execute_result"
    },
    {
     "data": {
      "image/png": "[encoded data removed]",
      "text/plain": [
       "<Figure size 1080x216 with 1 Axes>"
      ]
     },
     "metadata": {
      "needs_background": "light"
     },
     "output_type": "display_data"
    }
   ],
   "source": [
    "#Accuracy BarChart of Evaluation Models\n",
    "names = ['NB','DT','KNN','LR','SVM','ANN']\n",
    "values = [99.95,100.00,99.99,100.00,100.00,100.00]\n",
    "f = plt.figure(figsize=(15,3),num=10)\n",
    "plt.subplot(131)\n",
    "plt.ylim(5,102)\n",
    "plt.bar(names,values)"
   ]
  },
  {
   "cell_type": "code",
   "execution_count": 52,
   "id": "fd0870e3-5d8d-4a03-87e7-865910fe2efa",
   "metadata": {},
   "outputs": [
    {
     "data": {
      "text/plain": [
       "<BarContainer object of 6 artists>"
      ]
     },
     "execution_count": 52,
     "metadata": {},
     "output_type": "execute_result"
    },
    {
     "data": {
      "image/png": "[encoded data removed]",
      "text/plain": [
       "<Figure size 1080x216 with 1 Axes>"
      ]
     },
     "metadata": {
      "needs_background": "light"
     },
     "output_type": "display_data"
    }
   ],
   "source": [
    "#Accuracy BarChart of Validation Models\n",
    "names = ['NB','DT','KNN','LR','SVM','ANN']\n",
    "values = [99.99,100.00,100.00,100.00,99.99,100.00]\n",
    "f = plt.figure(figsize=(15,3),num=10)\n",
    "plt.subplot(131)\n",
    "plt.ylim(5,102)\n",
    "plt.bar(names,values)"
   ]
  },
  {
   "cell_type": "code",
   "execution_count": 49,
   "id": "994c4a08-d78a-45d2-b7c1-e4cdaf1b2e6b",
   "metadata": {},
   "outputs": [
    {
     "data": {
      "text/plain": [
       "<BarContainer object of 6 artists>"
      ]
     },
     "execution_count": 49,
     "metadata": {},
     "output_type": "execute_result"
    },
    {
     "data": {
      "image/png": "[encoded data removed]",
      "text/plain": [
       "<Figure size 1080x216 with 1 Axes>"
      ]
     },
     "metadata": {
      "needs_background": "light"
     },
     "output_type": "display_data"
    }
   ],
   "source": [
    "#BarChart of Training Time on Evaluating the Models \n",
    "names = ['NB','DT','KNN','LR','SVM','ANN']\n",
    "values = [3.213,3.0338,3133.770,27.888,42.535,114.953]\n",
    "f = plt.figure(figsize=(15,3),num=10)\n",
    "plt.subplot(131)\n",
    "plt.ylim(10,102)\n",
    "plt.bar(names,values)"
   ]
  },
  {
   "cell_type": "code",
   "execution_count": 51,
   "id": "1cace0fe-abfa-4f59-9455-f90bc8fd3b09",
   "metadata": {},
   "outputs": [
    {
     "data": {
      "text/plain": [
       "<BarContainer object of 6 artists>"
      ]
     },
     "execution_count": 51,
     "metadata": {},
     "output_type": "execute_result"
    },
    {
     "data": {
      "image/png": "[encoded data removed]",
      "text/plain": [
       "<Figure size 1080x216 with 1 Axes>"
      ]
     },
     "metadata": {
      "needs_background": "light"
     },
     "output_type": "display_data"
    }
   ],
   "source": [
    "#BarChart of Test Time on Validating the Models \n",
    "names = ['NB','DT','KNN','LR','SVM','ANN']\n",
    "values = [0.440,0.346,55.761,0.319,8.354,0.9023]\n",
    "f = plt.figure(figsize=(15,3),num=10)\n",
    "plt.subplot(131)\n",
    "plt.ylim(10,102)\n",
    "plt.bar(names,values)"
   ]
  },
  {
   "cell_type": "code",
   "execution_count": null,
   "id": "04bf4b58-6f96-4e13-969c-b4d5a6a577a0",
   "metadata": {},
   "outputs": [],
   "source": []
  }
 ],
 "metadata": {
  "kernelspec": {
   "display_name": "Python 3 (ipykernel)",
   "language": "python",
   "name": "python3"
  },
  "language_info": {
   "codemirror_mode": {
    "name": "ipython",
    "version": 3
   },
   "file_extension": ".py",
   "mimetype": "text/x-python",
   "name": "python",
   "nbconvert_exporter": "python",
   "pygments_lexer": "ipython3",
   "version": "3.9.7"
  }
 },
 "nbformat": 4,
 "nbformat_minor": 5
}
